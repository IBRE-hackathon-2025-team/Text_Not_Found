{
 "cells": [
  {
   "cell_type": "code",
   "execution_count": null,
   "id": "1ac1f265",
   "metadata": {},
   "outputs": [],
   "source": [
    "from ..pipeline.llm_text_generator import generate_neuro_texts"
   ]
  },
  {
   "cell_type": "markdown",
   "id": "3a3c282e",
   "metadata": {},
   "source": [
    "This notebook executes GigaChat API to generate and concatenate requests in a given way"
   ]
  },
  {
   "cell_type": "code",
   "execution_count": null,
   "id": "2e75d372",
   "metadata": {},
   "outputs": [],
   "source": [
    "author = \"DontsovaDaria\"\n",
    "root_dir = \"/home/team/text_input/DD_txt\"\n",
    "desired_size = 500000\n",
    "n_books = 2\n",
    "prompt = \"Сгенерируй текст в стиле Дарьи Донцовой максимального размера. Отправь только результат генерации\"\n",
    "series_list = [\"Neuro_Dontsova\"]"
   ]
  },
  {
   "cell_type": "code",
   "execution_count": null,
   "id": "302a7bc6",
   "metadata": {},
   "outputs": [],
   "source": [
    "generate_neuro_texts(author, root_dir, desired_size, n_books, prompt, series_list)"
   ]
  }
 ],
 "metadata": {
  "language_info": {
   "name": "python"
  }
 },
 "nbformat": 4,
 "nbformat_minor": 5
}
