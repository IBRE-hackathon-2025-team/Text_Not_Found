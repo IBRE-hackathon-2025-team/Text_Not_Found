{
 "cells": [
  {
   "cell_type": "markdown",
   "id": "66313245",
   "metadata": {},
   "source": [
    "This notebook will help to create an input needed for the pipeline given that all the necessary info will be stored in txt format at a given root_dir and save resulting csv in this folder"
   ]
  },
  {
   "cell_type": "code",
   "execution_count": 19,
   "id": "111441a6",
   "metadata": {},
   "outputs": [],
   "source": [
    "from pathlib import Path\n",
    "import pandas as pd"
   ]
  },
  {
   "cell_type": "code",
   "execution_count": 20,
   "id": "23e89217",
   "metadata": {},
   "outputs": [],
   "source": [
    "COLUMNS = [\"path_to_book\", \"title\", \"publication_year\", \"book_tag\"]"
   ]
  },
  {
   "cell_type": "code",
   "execution_count": 21,
   "id": "e7cc3ed0",
   "metadata": {},
   "outputs": [],
   "source": [
    "# Define yout root dir\n",
    "root_dir = Path(\"/home/team/text_input\")"
   ]
  },
  {
   "cell_type": "code",
   "execution_count": 24,
   "id": "f5521db3",
   "metadata": {},
   "outputs": [],
   "source": [
    "def create_csv_table_for_pipeline_input(root_dir: Path) -> None:\n",
    "    txt_files = [str(p) for p in list(root_dir.rglob('*.txt'))]\n",
    "    df = pd.DataFrame(columns=COLUMNS)\n",
    "    df[\"path_to_book\"] = txt_files\n",
    "\n",
    "    df.to_csv(\"pipeline_input_table.csv\", index=False)\n",
    "\n",
    "    print(f\"Saved to {Path().resolve()}/pipeline_input_table.csv\")"
   ]
  },
  {
   "cell_type": "code",
   "execution_count": 25,
   "id": "92162954",
   "metadata": {},
   "outputs": [
    {
     "name": "stdout",
     "output_type": "stream",
     "text": [
      "Saved to /home/team/for_repo/example_notebooks/pipeline_input_table.csv\n"
     ]
    }
   ],
   "source": [
    "create_csv_table_for_pipeline_input(root_dir)"
   ]
  },
  {
   "cell_type": "code",
   "execution_count": null,
   "id": "5fcb485b",
   "metadata": {},
   "outputs": [],
   "source": []
  }
 ],
 "metadata": {
  "kernelspec": {
   "display_name": "gigachat",
   "language": "python",
   "name": "python3"
  },
  "language_info": {
   "codemirror_mode": {
    "name": "ipython",
    "version": 3
   },
   "file_extension": ".py",
   "mimetype": "text/x-python",
   "name": "python",
   "nbconvert_exporter": "python",
   "pygments_lexer": "ipython3",
   "version": "3.13.5"
  }
 },
 "nbformat": 4,
 "nbformat_minor": 5
}
